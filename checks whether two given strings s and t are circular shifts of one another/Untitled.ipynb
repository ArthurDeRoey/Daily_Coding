{
 "cells": [
  {
   "cell_type": "markdown",
   "metadata": {},
   "source": [
    "First make sure s1 and s2 are of the same length. Then check to see if s2 is a substring of s1 concatenated with s1:"
   ]
  },
  {
   "cell_type": "code",
   "execution_count": null,
   "metadata": {},
   "outputs": [],
   "source": [
    "algorithm checkRotation(string s1, string s2) \n",
    "  if( len(s1) != len(s2))\n",
    "    return false\n",
    "  if( substring(s2,concat(s1,s1))\n",
    "    return true\n",
    "  return false\n",
    "end"
   ]
  },
  {
   "cell_type": "code",
   "execution_count": null,
   "metadata": {},
   "outputs": [],
   "source": [
    "def isrotation(s1,s2):\n",
    "     return len(s1)==len(s2) and s1 in 2*s2"
   ]
  },
  {
   "cell_type": "code",
   "execution_count": 4,
   "metadata": {},
   "outputs": [
    {
     "name": "stdout",
     "output_type": "stream",
     "text": [
      "Strings are rotations of each other\n"
     ]
    }
   ],
   "source": [
    "# Python program to check if strings are rotations of \n",
    "# each other or not \n",
    "\n",
    "# Function checks if passed strings (str1 and str2) \n",
    "# are rotations of each other \n",
    "def areRotations(string1, string2): \n",
    "    size1 = len(string1) \n",
    "    size2 = len(string2) \n",
    "    temp = '' \n",
    "\n",
    "    # Check if sizes of two strings are same \n",
    "    if size1 != size2: \n",
    "        return 0\n",
    "\n",
    "    # Create a temp string with value str1.str1 \n",
    "    temp = string1 + string1 \n",
    "\n",
    "    # Now check if str2 is a substring of temp \n",
    "    # string.count returns the number of occurrences of \n",
    "    # the second string in temp \n",
    "    if (temp.count(string2)> 0): \n",
    "        return 1\n",
    "    else: \n",
    "        return 0\n",
    "\n",
    "\n",
    "if areRotations(string1, string2): \n",
    "    print(\"Strings are rotations of each other\")\n",
    "else: \n",
    "    print(\"Strings are not rotations of each other\")\n",
    "\n",
    "# This code is contributed by Bhavya Jain "
   ]
  },
  {
   "cell_type": "code",
   "execution_count": 7,
   "metadata": {},
   "outputs": [],
   "source": [
    "# Driver program to test the above function \n",
    "string1 = \"AACD\"\n",
    "string2 = \"BCDA\""
   ]
  },
  {
   "cell_type": "code",
   "execution_count": 8,
   "metadata": {},
   "outputs": [
    {
     "name": "stdout",
     "output_type": "stream",
     "text": [
      "Strings are not rotations of each other\n"
     ]
    }
   ],
   "source": [
    "\n",
    "if areRotations(string1, string2): \n",
    "    print(\"Strings are rotations of each other\")\n",
    "else: \n",
    "    print(\"Strings are not rotations of each other\")\n",
    "\n",
    "# This code is contributed by Bhavya Jain "
   ]
  },
  {
   "cell_type": "code",
   "execution_count": null,
   "metadata": {},
   "outputs": [],
   "source": []
  }
 ],
 "metadata": {
  "kernelspec": {
   "display_name": "Python 3",
   "language": "python",
   "name": "python3"
  },
  "language_info": {
   "codemirror_mode": {
    "name": "ipython",
    "version": 3
   },
   "file_extension": ".py",
   "mimetype": "text/x-python",
   "name": "python",
   "nbconvert_exporter": "python",
   "pygments_lexer": "ipython3",
   "version": "3.8.3"
  }
 },
 "nbformat": 4,
 "nbformat_minor": 4
}

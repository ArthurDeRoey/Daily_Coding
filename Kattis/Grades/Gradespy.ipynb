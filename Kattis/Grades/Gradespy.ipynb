{
 "cells": [
  {
   "cell_type": "code",
   "execution_count": 1,
   "metadata": {},
   "outputs": [],
   "source": [
    "from itu.algs4.sorting.insertion_sort import sort"
   ]
  },
  {
   "cell_type": "code",
   "execution_count": null,
   "metadata": {},
   "outputs": [],
   "source": [
    "import sys # why?"
   ]
  },
  {
   "cell_type": "code",
   "execution_count": null,
   "metadata": {},
   "outputs": [],
   "source": [
    "from itu.algs4.stdlib.stdio import readString, readInt\n",
    "import sys\n",
    "# why do I have to specify the import? Why do I need supports reading from standard input \n",
    "# and writing to sys.stdout.?\n",
    "\n",
    "# should I change the ReGex for this exercise for readInt\n",
    "\n",
    "# why the if loops? https://github.com/itu-algorithms/itu.algs4/blob/master/itu/algs4/stdlib/stdio.py \n"
   ]
  },
  {
   "cell_type": "code",
   "execution_count": 2,
   "metadata": {},
   "outputs": [
    {
     "name": "stdout",
     "output_type": "stream",
     "text": [
      "-f /Users/arthur/Library/Jupyter/runtime/kernel-47f5c2da-a183-407a-8de4-0e5358e7127d.json \n"
     ]
    }
   ],
   "source": [
    "# Created for BADS 2018\n",
    "# See README.md for details\n",
    "# This is python3\n",
    "\"\"\"The Insertion module provides static methods for sorting an array using\n",
    "insertion sort.\n",
    "This implementation makes ~ 1/2 n^2 compares and exchanges in the worst\n",
    "case, so it is not suitable for sorting large arbitrary arrays. More\n",
    "precisely, the number of exchanges is exactly equal to the number of\n",
    "inversions. So, for example, it sorts a partially-sorted array in linear\n",
    "time. The sorting algorithm is stable and uses O(1) extra memory.\n",
    "\"\"\"\n",
    "import sys\n",
    "from typing import List, TypeVar\n",
    "\n",
    "T = TypeVar(\"T\")\n",
    "\n",
    "def sort(a: List[T]):\n",
    "    \"\"\"Rearranges the array in ascending order, using the natural order.\n",
    "    :param a: the array to be sorted.\n",
    "    \"\"\"\n",
    "    # Sort a[] into increasing order.\n",
    "    N = len(a)\n",
    "    for i in range(1, N):\n",
    "        # Insert a[i] among a[i-1], a[i-2], a[i-3]...\n",
    "        for j in range(i, 0, -1):\n",
    "            if not _less(a[j], a[j - 1]):\n",
    "                break\n",
    "            _exch(a, j, j - 1)\n",
    "            \n",
    "def _less(v: T, w: T):\n",
    "    return v < w\n",
    "\n",
    "def _exch(a: List[T], i: int, j: int):\n",
    "    t = a[i]\n",
    "    a[i] = a[j]\n",
    "    a[j] = t\n",
    "\n",
    "\n",
    "def _show(a: List[T]):\n",
    "    # Prints the array on a single line\n",
    "    for item in a:\n",
    "        print(item, end=\" \")\n",
    "    print()\n",
    "\n",
    "\n",
    "def is_sorted(a: List[T]):\n",
    "    \"\"\"Returns true if a is sorted.\n",
    "    :param a: the array to be checked.\n",
    "    :returns: True if a is sorted.\n",
    "    \"\"\"\n",
    "    for i in range(1, len(a)):\n",
    "        if _less(a[i], a[i - 1]):\n",
    "            return False\n",
    "    return True\n",
    "\n",
    "\n",
    "def main():\n",
    "    \"\"\"Reads in a sequence of strings from standard input; Shellsorts them; and\n",
    "    prints them to standard output in ascending order.\"\"\"\n",
    "    a = sys.argv[1:]\n",
    "    sort(a)\n",
    "    assert is_sorted(a)\n",
    "    _show(a)\n",
    "\n",
    "\n",
    "if __name__ == \"__main__\":\n",
    "    main()\n"
   ]
  },
  {
   "cell_type": "code",
   "execution_count": 37,
   "metadata": {},
   "outputs": [
    {
     "data": {
      "text/plain": [
       "True"
      ]
     },
     "execution_count": 37,
     "metadata": {},
     "output_type": "execute_result"
    }
   ],
   "source": [
    "\"A\" < \"F-------\""
   ]
  },
  {
   "cell_type": "markdown",
   "metadata": {},
   "source": [
    "I made each student into a tuple. First index is the letter code (A+=0, A=1, etc). 2nd index is count of +/- (the + have to be reversed, so -(sum(+)). The last index is their name. Then feed it into the sort function, and print names. Assuming I remember correctly. Ex/ (A++, -2, Bob)\n"
   ]
  },
  {
   "cell_type": "code",
   "execution_count": null,
   "metadata": {},
   "outputs": [],
   "source": [
    "student, grade = input().split()"
   ]
  },
  {
   "cell_type": "code",
   "execution_count": null,
   "metadata": {},
   "outputs": [],
   "source": [
    "for i in sys.stdin"
   ]
  },
  {
   "cell_type": "code",
   "execution_count": null,
   "metadata": {},
   "outputs": [],
   "source": [
    "import sys? "
   ]
  },
  {
   "cell_type": "markdown",
   "metadata": {},
   "source": [
    "Pseudo code"
   ]
  },
  {
   "cell_type": "code",
   "execution_count": null,
   "metadata": {},
   "outputs": [],
   "source": [
    "# what is happening here?\n",
    "\n",
    "m = readint()\n",
    "list = []\n",
    "\n",
    "for i in range(m):\n",
    "    n = readString()\n",
    "    g = readString()\n",
    "    list.append([g,n])\n",
    "    print(\"name: \", n,\"grade: \", g)\n",
    "    \n",
    "list.sort()\n",
    "\n",
    "for i in list:\n",
    "    print(i[-1])    "
   ]
  },
  {
   "cell_type": "code",
   "execution_count": null,
   "metadata": {},
   "outputs": [],
   "source": [
    "class Student:\n",
    "    def __init__(self, name, grade, age):\n",
    "        self.name = name\n",
    "        self.grade = grade\n",
    "        self.age = age\n",
    "    def __repr__(self):\n",
    "        return repr((self.name, self.grade, self.age))\n",
    ">>>\n",
    "student_objects = [\n",
    "    Student('john', 'A', 15),\n",
    "    Student('jane', 'B', 12),\n",
    "    Student('dave', 'B', 10),\n",
    "]\n",
    "sorted(student_objects, key=lambda student: student.age)   # sort by age\n",
    "[('dave', 'B', 10), ('jane', 'B', 12), ('john', 'A', 15)]"
   ]
  },
  {
   "cell_type": "markdown",
   "metadata": {},
   "source": [
    "Psuedo code: "
   ]
  },
  {
   "cell_type": "code",
   "execution_count": null,
   "metadata": {},
   "outputs": [],
   "source": [
    "# way to read the Input: \n",
    "\n",
    "\n"
   ]
  },
  {
   "cell_type": "markdown",
   "metadata": {},
   "source": [
    "How to sort with the - and + values? "
   ]
  },
  {
   "cell_type": "code",
   "execution_count": null,
   "metadata": {},
   "outputs": [],
   "source": [
    "# sorted([B, +A, -A], key=lambda x: (x<0, abs(x)))\n",
    "# not allowed to use for this course"
   ]
  },
  {
   "cell_type": "markdown",
   "metadata": {},
   "source": [
    "Unpack each value in the string individually to separate the + from the string letter?"
   ]
  },
  {
   "cell_type": "code",
   "execution_count": 4,
   "metadata": {},
   "outputs": [
    {
     "name": "stdout",
     "output_type": "stream",
     "text": [
      "['A', '+', '+', '+']\n"
     ]
    }
   ],
   "source": [
    "*a, = \"A+++\"\n",
    "print(a)"
   ]
  },
  {
   "cell_type": "markdown",
   "metadata": {},
   "source": [
    "make the dict and then iterate through each value?"
   ]
  },
  {
   "cell_type": "code",
   "execution_count": 13,
   "metadata": {},
   "outputs": [
    {
     "name": "stdout",
     "output_type": "stream",
     "text": [
      "[('A',), ('A', '+', '+', '+'), ('F',), ('C', '-')]\n"
     ]
    }
   ],
   "source": [
    "# concatenate_2.py\n",
    "def concatenate(**words):\n",
    "    result = []\n",
    "    for arg in words.values():\n",
    "        arg = *arg,\n",
    "        result.append(arg)\n",
    "    return result\n",
    "\n",
    "print(concatenate(a=\"A\", b=\"A+++\", c=\"F\", d=\"C-\"))"
   ]
  },
  {
   "cell_type": "code",
   "execution_count": 16,
   "metadata": {},
   "outputs": [
    {
     "data": {
      "text/plain": [
       "5"
      ]
     },
     "execution_count": 16,
     "metadata": {},
     "output_type": "execute_result"
    }
   ],
   "source": [
    "def f(x) -> 123:\n",
    "    return x\n",
    "f(5)"
   ]
  },
  {
   "cell_type": "code",
   "execution_count": 25,
   "metadata": {},
   "outputs": [
    {
     "data": {
      "text/plain": [
       "True"
      ]
     },
     "execution_count": 25,
     "metadata": {},
     "output_type": "execute_result"
    }
   ],
   "source": [
    "\"B+++\" < \"B-\""
   ]
  },
  {
   "cell_type": "code",
   "execution_count": 29,
   "metadata": {},
   "outputs": [
    {
     "data": {
      "text/plain": [
       "43"
      ]
     },
     "execution_count": 29,
     "metadata": {},
     "output_type": "execute_result"
    }
   ],
   "source": [
    "ord(\"+\")"
   ]
  },
  {
   "cell_type": "code",
   "execution_count": 30,
   "metadata": {},
   "outputs": [
    {
     "data": {
      "text/plain": [
       "45"
      ]
     },
     "execution_count": 30,
     "metadata": {},
     "output_type": "execute_result"
    }
   ],
   "source": [
    "ord(\"-\")"
   ]
  },
  {
   "cell_type": "code",
   "execution_count": null,
   "metadata": {},
   "outputs": [],
   "source": []
  }
 ],
 "metadata": {
  "kernelspec": {
   "display_name": "Python 3",
   "language": "python",
   "name": "python3"
  },
  "language_info": {
   "codemirror_mode": {
    "name": "ipython",
    "version": 3
   },
   "file_extension": ".py",
   "mimetype": "text/x-python",
   "name": "python",
   "nbconvert_exporter": "python",
   "pygments_lexer": "ipython3",
   "version": "3.8.3"
  }
 },
 "nbformat": 4,
 "nbformat_minor": 4
}

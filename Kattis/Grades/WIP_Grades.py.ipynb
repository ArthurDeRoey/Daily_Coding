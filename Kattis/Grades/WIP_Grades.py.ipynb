{
 "cells": [
  {
   "cell_type": "code",
   "execution_count": 1,
   "metadata": {},
   "outputs": [
    {
     "name": "stdout",
     "output_type": "stream",
     "text": [
      "Requirement already satisfied: itu.algs4 in /Users/arthur/opt/anaconda3/lib/python3.8/site-packages (0.2.5)\n",
      "Note: you may need to restart the kernel to use updated packages.\n"
     ]
    }
   ],
   "source": [
    "pip install itu.algs4"
   ]
  },
  {
   "cell_type": "code",
   "execution_count": 5,
   "metadata": {},
   "outputs": [],
   "source": [
    "from itu.algs4.stdlib import stdio\n",
    "from itu.algs4.sorting import merge"
   ]
  },
  {
   "cell_type": "code",
   "execution_count": 4,
   "metadata": {},
   "outputs": [
    {
     "name": "stdout",
     "output_type": "stream",
     "text": [
      "Hello World!\n"
     ]
    }
   ],
   "source": [
    "stdio.write(\"Hello World!\\n\")\n"
   ]
  },
  {
   "cell_type": "code",
   "execution_count": 6,
   "metadata": {},
   "outputs": [
    {
     "name": "stdout",
     "output_type": "stream",
     "text": [
      "\n"
     ]
    }
   ],
   "source": [
    "\"\"\"\n",
    "Reads a list of integers from standard input.\n",
    "Then prints it in sorted order.\n",
    "\"\"\"\n",
    "L = stdio.readAllInts()\n",
    "\n",
    "merge.sort(L)\n",
    "\n",
    "if len(L) > 0:\n",
    "    stdio.write(L[0])\n",
    "for i in range(1, len(L)):\n",
    "    stdio.write(\" \")\n",
    "    stdio.write(L[i])\n",
    "stdio.writeln()"
   ]
  },
  {
   "cell_type": "code",
   "execution_count": 7,
   "metadata": {},
   "outputs": [],
   "source": [
    "from itu.algs4.graphs.edge_weighted_digraph import EdgeWeightedDigraph"
   ]
  },
  {
   "cell_type": "code",
   "execution_count": 8,
   "metadata": {},
   "outputs": [
    {
     "name": "stdout",
     "output_type": "stream",
     "text": [
      "File not found, using standard input instead\n",
      "LEVELORDER:\n",
      "\n",
      "KEYS:\n"
     ]
    }
   ],
   "source": [
    "import sys\n",
    "\n",
    "from itu.algs4.searching.bst import BST\n",
    "from itu.algs4.stdlib import stdio\n",
    "\n",
    "if __name__ == \"__main__\":\n",
    "    if len(sys.argv) > 1:\n",
    "        try:\n",
    "            sys.stdin = open(sys.argv[1])\n",
    "        except IOError:\n",
    "            print(\"File not found, using standard input instead\")\n",
    "\n",
    "    data = stdio.readAllStrings()\n",
    "    st: BST[str, int] = BST()\n",
    "    i = 0\n",
    "    for key in data:\n",
    "        st.put(key, i)\n",
    "        i += 1\n",
    "\n",
    "    print(\"LEVELORDER:\")\n",
    "    for key in st.level_order():\n",
    "        print(str(key) + \" \" + str(st.get(key)))\n",
    "\n",
    "    print()\n",
    "\n",
    "    print(\"KEYS:\")\n",
    "    for key in st.keys():\n",
    "        print(str(key) + \" \" + str(st.get(key)))"
   ]
  },
  {
   "cell_type": "code",
   "execution_count": 9,
   "metadata": {},
   "outputs": [
    {
     "name": "stdout",
     "output_type": "stream",
     "text": [
      "(0 left on queue)\n"
     ]
    }
   ],
   "source": [
    "from itu.algs4.fundamentals.queue import Queue\n",
    "from itu.algs4.stdlib import stdio\n",
    "\n",
    "\"\"\"\n",
    "Reads strings from an stdin and adds them to a queue.\n",
    "When reading a '-' it removes the least recently added item and prints it.\n",
    "Prints the amount of items left on the queue.\n",
    "\"\"\"\n",
    "queue: Queue[str] = Queue()\n",
    "while not stdio.isEmpty():\n",
    "    input_item = stdio.readString()\n",
    "    if input_item != \"-\":\n",
    "        queue.enqueue(input_item)\n",
    "    elif not queue.is_empty():\n",
    "        print(queue.dequeue())\n",
    "print(\"({} left on queue)\".format(queue.size()))\n"
   ]
  },
  {
   "cell_type": "code",
   "execution_count": 10,
   "metadata": {},
   "outputs": [
    {
     "name": "stdout",
     "output_type": "stream",
     "text": [
      "\n"
     ]
    }
   ],
   "source": [
    "\n",
    "#!/usr/bin/env python3\n",
    "from itu.algs4.sorting import merge\n",
    "from itu.algs4.stdlib import stdio\n",
    "\n",
    "\"\"\"\n",
    "Reads a list of integers from standard input.\n",
    "Then prints it in sorted order.\n",
    "\"\"\"\n",
    "L = stdio.readAllInts()\n",
    "\n",
    "merge.sort(L)\n",
    "\n",
    "if len(L) > 0:\n",
    "    stdio.write(L[0])\n",
    "for i in range(1, len(L)):\n",
    "    stdio.write(\" \")\n",
    "    stdio.write(L[i])\n",
    "stdio.writeln()\n"
   ]
  },
  {
   "cell_type": "code",
   "execution_count": 11,
   "metadata": {},
   "outputs": [
    {
     "name": "stdout",
     "output_type": "stream",
     "text": [
      "File not found, using standard input instead\n",
      "(0 left on stack)\n"
     ]
    }
   ],
   "source": [
    "import sys\n",
    "\n",
    "from itu.algs4.fundamentals.stack import Stack\n",
    "from itu.algs4.stdlib import stdio\n",
    "\n",
    "if len(sys.argv) > 1:\n",
    "    try:\n",
    "        sys.stdin = open(sys.argv[1])\n",
    "    except IOError:\n",
    "        print(\"File not found, using standard input instead\")\n",
    "\n",
    "stack: Stack[str] = Stack()\n",
    "while not stdio.isEmpty():\n",
    "    item = stdio.readString()\n",
    "    if not item == \"-\":\n",
    "        stack.push(item)\n",
    "    elif not stack.is_empty():\n",
    "        stdio.write(stack.pop() + \" \")\n",
    "\n",
    "stdio.writef(\"(%i left on stack)\\n\", stack.size())\n"
   ]
  },
  {
   "cell_type": "code",
   "execution_count": null,
   "metadata": {},
   "outputs": [],
   "source": []
  }
 ],
 "metadata": {
  "kernelspec": {
   "display_name": "Python 3",
   "language": "python",
   "name": "python3"
  },
  "language_info": {
   "codemirror_mode": {
    "name": "ipython",
    "version": 3
   },
   "file_extension": ".py",
   "mimetype": "text/x-python",
   "name": "python",
   "nbconvert_exporter": "python",
   "pygments_lexer": "ipython3",
   "version": "3.8.3"
  }
 },
 "nbformat": 4,
 "nbformat_minor": 4
}
